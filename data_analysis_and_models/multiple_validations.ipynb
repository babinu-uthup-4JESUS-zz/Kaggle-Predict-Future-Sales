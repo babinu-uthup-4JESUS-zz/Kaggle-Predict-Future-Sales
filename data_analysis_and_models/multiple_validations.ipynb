{
 "cells": [
  {
   "cell_type": "markdown",
   "metadata": {},
   "source": [
    "### Summary\n",
    "\n",
    "##### Multiple validations\n",
    "In this notebook, we want to perform validations on multiple validation sets. \n",
    "\n",
    "To start with , we will have month=32 as the validation set (and use the data prior to that as the training set), and then have month=31 as the validation set (and again use the data prior to that as the training set) and so on. \n",
    "\n",
    "##### Taking a mean of the validations scores\n",
    "\n",
    "In the end, we will take a mean of all these validation scores and hopefully that should give us a much more stable estimate of the predictive ability of the model."
   ]
  },
  {
   "cell_type": "code",
   "execution_count": 15,
   "metadata": {},
   "outputs": [],
   "source": [
    "# Various imports.\n",
    "import pandas as pd\n",
    "import numpy as np\n",
    "from statistics import mean\n"
   ]
  },
  {
   "cell_type": "code",
   "execution_count": 16,
   "metadata": {},
   "outputs": [],
   "source": [
    "sales_train = pd.read_csv(\"../input/sales_train.csv\")"
   ]
  },
  {
   "cell_type": "code",
   "execution_count": 17,
   "metadata": {},
   "outputs": [],
   "source": [
    "monthly_sales_data = sales_train[['date_block_num', 'shop_id', 'item_id', 'item_cnt_day' ]].groupby(\n",
    "    ['date_block_num', 'shop_id', 'item_id']).sum()\n",
    "monthly_sales_data.rename(columns={'item_cnt_day':'item_cnt_month'}, inplace=True)\n",
    "monthly_sales_data.reset_index(['date_block_num', 'shop_id', 'item_id'], inplace=True)\n"
   ]
  },
  {
   "cell_type": "code",
   "execution_count": 18,
   "metadata": {},
   "outputs": [
    {
     "data": {
      "text/html": [
       "<div>\n",
       "<style scoped>\n",
       "    .dataframe tbody tr th:only-of-type {\n",
       "        vertical-align: middle;\n",
       "    }\n",
       "\n",
       "    .dataframe tbody tr th {\n",
       "        vertical-align: top;\n",
       "    }\n",
       "\n",
       "    .dataframe thead th {\n",
       "        text-align: right;\n",
       "    }\n",
       "</style>\n",
       "<table border=\"1\" class=\"dataframe\">\n",
       "  <thead>\n",
       "    <tr style=\"text-align: right;\">\n",
       "      <th></th>\n",
       "      <th>date_block_num</th>\n",
       "      <th>shop_id</th>\n",
       "      <th>item_id</th>\n",
       "      <th>item_cnt_month</th>\n",
       "    </tr>\n",
       "  </thead>\n",
       "  <tbody>\n",
       "    <tr>\n",
       "      <th>0</th>\n",
       "      <td>0</td>\n",
       "      <td>0</td>\n",
       "      <td>32</td>\n",
       "      <td>6.0</td>\n",
       "    </tr>\n",
       "    <tr>\n",
       "      <th>1</th>\n",
       "      <td>0</td>\n",
       "      <td>0</td>\n",
       "      <td>33</td>\n",
       "      <td>3.0</td>\n",
       "    </tr>\n",
       "    <tr>\n",
       "      <th>2</th>\n",
       "      <td>0</td>\n",
       "      <td>0</td>\n",
       "      <td>35</td>\n",
       "      <td>1.0</td>\n",
       "    </tr>\n",
       "    <tr>\n",
       "      <th>3</th>\n",
       "      <td>0</td>\n",
       "      <td>0</td>\n",
       "      <td>43</td>\n",
       "      <td>1.0</td>\n",
       "    </tr>\n",
       "    <tr>\n",
       "      <th>4</th>\n",
       "      <td>0</td>\n",
       "      <td>0</td>\n",
       "      <td>51</td>\n",
       "      <td>2.0</td>\n",
       "    </tr>\n",
       "  </tbody>\n",
       "</table>\n",
       "</div>"
      ],
      "text/plain": [
       "   date_block_num  shop_id  item_id  item_cnt_month\n",
       "0               0        0       32             6.0\n",
       "1               0        0       33             3.0\n",
       "2               0        0       35             1.0\n",
       "3               0        0       43             1.0\n",
       "4               0        0       51             2.0"
      ]
     },
     "execution_count": 18,
     "metadata": {},
     "output_type": "execute_result"
    }
   ],
   "source": [
    "monthly_sales_data.head()"
   ]
  },
  {
   "cell_type": "code",
   "execution_count": 31,
   "metadata": {},
   "outputs": [],
   "source": [
    "# Put the clippings to a routine for easy access.\n",
    "def clip_predictions_and_actual_vals(df, \n",
    "                                     actual_value_col='item_cnt_month', \n",
    "                                     prediction_col='item_cnt_month_prediction'):\n",
    "    if actual_value_col in df.columns:\n",
    "        df[actual_value_col] = \\\n",
    "            df[actual_value_col].clip(lower=0, upper=20)\n",
    "    if prediction_col in df.columns:\n",
    "        df[prediction_col] = \\\n",
    "            df[prediction_col].clip(lower=0, upper=20)\n",
    "    \n"
   ]
  },
  {
   "cell_type": "code",
   "execution_count": 20,
   "metadata": {},
   "outputs": [],
   "source": [
    "from sklearn.metrics import mean_squared_error\n",
    "def get_validation_rmse(monthly_validation_data=monthly_sales_data):\n",
    "    \n",
    "\n",
    "    rmse_validation_data = np.sqrt(mean_squared_error(monthly_validation_data.item_cnt_month, \n",
    "                                                      monthly_validation_data.item_cnt_month_prediction))\n",
    "    return rmse_validation_data\n"
   ]
  },
  {
   "cell_type": "code",
   "execution_count": 21,
   "metadata": {},
   "outputs": [],
   "source": [
    "def get_predictions_on_test_data(train_data, test_data):\n",
    "    train_data['shop_id_and_item_id'] = list(zip(train_data['shop_id'], \n",
    "                                                 train_data['item_id']))\n",
    "\n",
    "    shop_id_item_id_item_cnt = dict(zip(train_data.shop_id_and_item_id, \n",
    "                                        train_data.item_cnt_month))    \n",
    "    \n",
    "\n",
    "    test_data['item_cnt_month_prediction'] = test_data.apply(\n",
    "        lambda x : shop_id_item_id_item_cnt.get((x.shop_id, x.item_id), 0), axis=1)     \n",
    "    clip_predictions_and_actual_vals(train_data)    \n",
    "    clip_predictions_and_actual_vals(test_data)        \n"
   ]
  },
  {
   "cell_type": "code",
   "execution_count": 22,
   "metadata": {},
   "outputs": [],
   "source": [
    "def get_validation_score(validation_month = 32, monthly_sales_data=monthly_sales_data):\n",
    "    # Gets the training and validation  data sets.\n",
    "    monthly_validation_data = monthly_sales_data[monthly_sales_data['date_block_num'] == validation_month].copy()\n",
    "    \n",
    "    \n",
    "    prev_month_data = monthly_sales_data[monthly_sales_data['date_block_num'] == validation_month-1].copy()\n",
    "    \n",
    "    \n",
    "    get_predictions_on_test_data(prev_month_data, monthly_validation_data)\n",
    "    return get_validation_rmse(monthly_validation_data)\n",
    "    \n",
    "    "
   ]
  },
  {
   "cell_type": "code",
   "execution_count": 23,
   "metadata": {},
   "outputs": [
    {
     "data": {
      "text/plain": [
       "2.6196034545160316"
      ]
     },
     "execution_count": 23,
     "metadata": {},
     "output_type": "execute_result"
    }
   ],
   "source": [
    "get_validation_score()"
   ]
  },
  {
   "cell_type": "markdown",
   "metadata": {},
   "source": [
    "##### Now , let us compute validation scores iteratively for months 1 to 32."
   ]
  },
  {
   "cell_type": "code",
   "execution_count": 24,
   "metadata": {},
   "outputs": [
    {
     "name": "stdout",
     "output_type": "stream",
     "text": [
      "1 2.710395130217868\n",
      "2 3.0223156762889514\n",
      "3 2.8016959770366463\n",
      "4 2.4699370766101896\n",
      "5 2.5482356397695782\n",
      "6 2.210297259267594\n",
      "7 2.426496930365454\n",
      "8 3.0129113018549636\n",
      "9 3.010404740220371\n",
      "10 3.045767612570966\n",
      "11 3.0568427380053245\n",
      "12 2.5833516846301863\n",
      "13 2.5346996530242834\n",
      "14 2.8093730151311207\n",
      "15 2.719196974469364\n",
      "16 2.5575318724316403\n",
      "17 2.2361738107033937\n",
      "18 2.323811638937932\n",
      "19 2.395326960716407\n",
      "20 2.9929949798835107\n",
      "21 3.033475245069365\n",
      "22 3.079804031930541\n",
      "23 2.9627064809246684\n",
      "24 2.713172334269662\n",
      "25 2.4361476089816563\n",
      "26 2.290570480844994\n",
      "27 2.7652927704790824\n",
      "28 2.646595789640537\n",
      "29 2.298305632682825\n",
      "30 2.0275932308184674\n",
      "31 2.11499708886291\n",
      "32 2.6196034545160316\n",
      "Mean validation score is  2.6392507756611403\n"
     ]
    }
   ],
   "source": [
    "validation_scores = list()\n",
    "for i in range(1, 33):\n",
    "    validation_score = get_validation_score(validation_month=i)\n",
    "    print(i, validation_score)\n",
    "    validation_scores.append(validation_score)\n",
    "    \n",
    "print(\"Mean validation score is \", mean(validation_scores))"
   ]
  },
  {
   "cell_type": "markdown",
   "metadata": {},
   "source": [
    "##### One last final time, let us verify the prediction score on test entries by uploading them to kaggle.\n"
   ]
  },
  {
   "cell_type": "code",
   "execution_count": 25,
   "metadata": {},
   "outputs": [],
   "source": [
    "test = pd.read_csv('../input/test.csv')"
   ]
  },
  {
   "cell_type": "code",
   "execution_count": 26,
   "metadata": {},
   "outputs": [
    {
     "data": {
      "text/plain": [
       "count    2.935849e+06\n",
       "mean     1.456991e+01\n",
       "std      9.422988e+00\n",
       "min      0.000000e+00\n",
       "25%      7.000000e+00\n",
       "50%      1.400000e+01\n",
       "75%      2.300000e+01\n",
       "max      3.300000e+01\n",
       "Name: date_block_num, dtype: float64"
      ]
     },
     "execution_count": 26,
     "metadata": {},
     "output_type": "execute_result"
    }
   ],
   "source": [
    "sales_train.date_block_num.describe()"
   ]
  },
  {
   "cell_type": "code",
   "execution_count": 27,
   "metadata": {},
   "outputs": [],
   "source": [
    "get_predictions_on_test_data(monthly_sales_data[monthly_sales_data.date_block_num==33].copy(), test)"
   ]
  },
  {
   "cell_type": "code",
   "execution_count": 28,
   "metadata": {},
   "outputs": [
    {
     "data": {
      "text/html": [
       "<div>\n",
       "<style scoped>\n",
       "    .dataframe tbody tr th:only-of-type {\n",
       "        vertical-align: middle;\n",
       "    }\n",
       "\n",
       "    .dataframe tbody tr th {\n",
       "        vertical-align: top;\n",
       "    }\n",
       "\n",
       "    .dataframe thead th {\n",
       "        text-align: right;\n",
       "    }\n",
       "</style>\n",
       "<table border=\"1\" class=\"dataframe\">\n",
       "  <thead>\n",
       "    <tr style=\"text-align: right;\">\n",
       "      <th></th>\n",
       "      <th>ID</th>\n",
       "      <th>shop_id</th>\n",
       "      <th>item_id</th>\n",
       "      <th>item_cnt_month_prediction</th>\n",
       "    </tr>\n",
       "  </thead>\n",
       "  <tbody>\n",
       "    <tr>\n",
       "      <th>0</th>\n",
       "      <td>0</td>\n",
       "      <td>5</td>\n",
       "      <td>5037</td>\n",
       "      <td>0.0</td>\n",
       "    </tr>\n",
       "    <tr>\n",
       "      <th>1</th>\n",
       "      <td>1</td>\n",
       "      <td>5</td>\n",
       "      <td>5320</td>\n",
       "      <td>0.0</td>\n",
       "    </tr>\n",
       "    <tr>\n",
       "      <th>2</th>\n",
       "      <td>2</td>\n",
       "      <td>5</td>\n",
       "      <td>5233</td>\n",
       "      <td>1.0</td>\n",
       "    </tr>\n",
       "    <tr>\n",
       "      <th>3</th>\n",
       "      <td>3</td>\n",
       "      <td>5</td>\n",
       "      <td>5232</td>\n",
       "      <td>0.0</td>\n",
       "    </tr>\n",
       "    <tr>\n",
       "      <th>4</th>\n",
       "      <td>4</td>\n",
       "      <td>5</td>\n",
       "      <td>5268</td>\n",
       "      <td>0.0</td>\n",
       "    </tr>\n",
       "  </tbody>\n",
       "</table>\n",
       "</div>"
      ],
      "text/plain": [
       "   ID  shop_id  item_id  item_cnt_month_prediction\n",
       "0   0        5     5037                        0.0\n",
       "1   1        5     5320                        0.0\n",
       "2   2        5     5233                        1.0\n",
       "3   3        5     5232                        0.0\n",
       "4   4        5     5268                        0.0"
      ]
     },
     "execution_count": 28,
     "metadata": {},
     "output_type": "execute_result"
    }
   ],
   "source": [
    "test.head()"
   ]
  },
  {
   "cell_type": "code",
   "execution_count": 29,
   "metadata": {},
   "outputs": [],
   "source": [
    "test.rename(columns={'item_cnt_month_prediction': 'item_cnt_month'}, inplace=True)"
   ]
  },
  {
   "cell_type": "code",
   "execution_count": 30,
   "metadata": {},
   "outputs": [],
   "source": [
    "test[['ID', 'item_cnt_month']].to_csv('test_submission_20190805.csv', index=False)"
   ]
  },
  {
   "cell_type": "markdown",
   "metadata": {},
   "source": [
    "#### Conclusion\n",
    "\n",
    "The submission matches the score earlier received. This proves the point that though the submission scores very well on kaggle with 15% of the test data being visible, it score relatively poorly on our validation set. Hence, it looks like we should accept the results from kaggle submission with a pinch of salt.\n"
   ]
  }
 ],
 "metadata": {
  "kernelspec": {
   "display_name": "Python 3",
   "language": "python",
   "name": "python3"
  },
  "language_info": {
   "codemirror_mode": {
    "name": "ipython",
    "version": 3
   },
   "file_extension": ".py",
   "mimetype": "text/x-python",
   "name": "python",
   "nbconvert_exporter": "python",
   "pygments_lexer": "ipython3",
   "version": "3.6.8"
  }
 },
 "nbformat": 4,
 "nbformat_minor": 2
}

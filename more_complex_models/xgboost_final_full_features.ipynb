{
 "cells": [
  {
   "cell_type": "markdown",
   "metadata": {},
   "source": [
    "#### Summary\n",
    "\n",
    "The key to getting this project off to the ground is to correctly define validation and test sets ( as we will see later). Once we do that , we see that the validation error decreases correctly and remains in sync with the test error."
   ]
  },
  {
   "cell_type": "code",
   "execution_count": 3,
   "metadata": {},
   "outputs": [],
   "source": [
    "import pandas as pd\n",
    "import numpy as np\n",
    "from sklearn.preprocessing import LabelEncoder"
   ]
  },
  {
   "cell_type": "code",
   "execution_count": 4,
   "metadata": {},
   "outputs": [],
   "source": [
    "from xgboost import plot_importance\n",
    "import matplotlib.pyplot as plt"
   ]
  },
  {
   "cell_type": "code",
   "execution_count": 5,
   "metadata": {},
   "outputs": [],
   "source": [
    "INPUT_DIR = '../input/'\n",
    "#INPUT_DIR = '../input/competitive-data-science-predict-future-sales/'"
   ]
  },
  {
   "cell_type": "code",
   "execution_count": 6,
   "metadata": {},
   "outputs": [],
   "source": [
    "sales_train = pd.read_csv(INPUT_DIR + 'sales_train.csv')"
   ]
  },
  {
   "cell_type": "code",
   "execution_count": 7,
   "metadata": {},
   "outputs": [],
   "source": [
    "test_data = pd.read_csv(INPUT_DIR + 'test.csv')"
   ]
  },
  {
   "cell_type": "markdown",
   "metadata": {},
   "source": [
    "#### Basic data checks (borrowed from https://www.kaggle.com/dlarionov/feature-engineering-xgboost)\n",
    "\n",
    "NOTE: We are not using the price field, since we are not fully convinced on the data sanity of the same."
   ]
  },
  {
   "cell_type": "code",
   "execution_count": 9,
   "metadata": {},
   "outputs": [],
   "source": [
    "sales_train = sales_train[sales_train.item_cnt_day < 1001]\n",
    "#sales_train = sales_train[sales_train.item_price < 100000]\n"
   ]
  },
  {
   "cell_type": "code",
   "execution_count": 24,
   "metadata": {},
   "outputs": [],
   "source": [
    "shops = pd.read_csv(INPUT_DIR + 'shops.csv')\n",
    "item_categories = pd.read_csv(INPUT_DIR + 'item_categories.csv')\n",
    "items = pd.read_csv(INPUT_DIR + 'items.csv')\n",
    "test = pd.read_csv(INPUT_DIR + 'test.csv')\n",
    "\n",
    "ITEM_ID_TO_ITEM_CATEGORY_ID = dict(zip(items.item_id, items.item_category_id))"
   ]
  },
  {
   "cell_type": "code",
   "execution_count": 38,
   "metadata": {},
   "outputs": [],
   "source": [
    "item_categories['cat_split']  = item_categories['item_category_name'].apply(lambda x : x.split('-'))"
   ]
  },
  {
   "cell_type": "code",
   "execution_count": 39,
   "metadata": {},
   "outputs": [],
   "source": [
    "item_categories['type'] = item_categories['cat_split'].apply(lambda x : x[0])"
   ]
  },
  {
   "cell_type": "code",
   "execution_count": 40,
   "metadata": {},
   "outputs": [],
   "source": [
    "item_categories['sub_type'] = item_categories['cat_split'].apply(lambda x : x[1] if len(x) > 1 else x[0])"
   ]
  },
  {
   "cell_type": "code",
   "execution_count": 41,
   "metadata": {},
   "outputs": [],
   "source": [
    "item_categories['type_id'] = LabelEncoder().fit_transform(item_categories['type'])\n",
    "item_categories['sub_type_id'] = LabelEncoder().fit_transform(item_categories['sub_type'])"
   ]
  },
  {
   "cell_type": "code",
   "execution_count": 42,
   "metadata": {},
   "outputs": [],
   "source": [
    "ITEM_CATEGORY_ID_TO_TYPE_ID = dict(zip(item_categories.item_category_id, item_categories.type_id))\n",
    "ITEM_CATEGORY_ID_TO_SUB_TYPE_ID = dict(zip(item_categories.item_category_id, item_categories.sub_type_id))"
   ]
  },
  {
   "cell_type": "markdown",
   "metadata": {},
   "source": [
    "#### Get shops data"
   ]
  },
  {
   "cell_type": "code",
   "execution_count": 43,
   "metadata": {},
   "outputs": [
    {
     "data": {
      "text/html": [
       "<div>\n",
       "<style scoped>\n",
       "    .dataframe tbody tr th:only-of-type {\n",
       "        vertical-align: middle;\n",
       "    }\n",
       "\n",
       "    .dataframe tbody tr th {\n",
       "        vertical-align: top;\n",
       "    }\n",
       "\n",
       "    .dataframe thead th {\n",
       "        text-align: right;\n",
       "    }\n",
       "</style>\n",
       "<table border=\"1\" class=\"dataframe\">\n",
       "  <thead>\n",
       "    <tr style=\"text-align: right;\">\n",
       "      <th></th>\n",
       "      <th>shop_name</th>\n",
       "      <th>shop_id</th>\n",
       "    </tr>\n",
       "  </thead>\n",
       "  <tbody>\n",
       "    <tr>\n",
       "      <th>0</th>\n",
       "      <td>!Якутск Орджоникидзе, 56 фран</td>\n",
       "      <td>0</td>\n",
       "    </tr>\n",
       "    <tr>\n",
       "      <th>57</th>\n",
       "      <td>Якутск Орджоникидзе, 56</td>\n",
       "      <td>57</td>\n",
       "    </tr>\n",
       "  </tbody>\n",
       "</table>\n",
       "</div>"
      ],
      "text/plain": [
       "                        shop_name  shop_id\n",
       "0   !Якутск Орджоникидзе, 56 фран        0\n",
       "57        Якутск Орджоникидзе, 56       57"
      ]
     },
     "execution_count": 43,
     "metadata": {},
     "output_type": "execute_result"
    }
   ],
   "source": [
    "shops[(shops.shop_id == 0) | (shops.shop_id == 57)]"
   ]
  },
  {
   "cell_type": "code",
   "execution_count": 44,
   "metadata": {},
   "outputs": [],
   "source": [
    "shops.loc[(shops.shop_id ==0), 'shop_id'] = 57"
   ]
  },
  {
   "cell_type": "code",
   "execution_count": 45,
   "metadata": {},
   "outputs": [
    {
     "data": {
      "text/html": [
       "<div>\n",
       "<style scoped>\n",
       "    .dataframe tbody tr th:only-of-type {\n",
       "        vertical-align: middle;\n",
       "    }\n",
       "\n",
       "    .dataframe tbody tr th {\n",
       "        vertical-align: top;\n",
       "    }\n",
       "\n",
       "    .dataframe thead th {\n",
       "        text-align: right;\n",
       "    }\n",
       "</style>\n",
       "<table border=\"1\" class=\"dataframe\">\n",
       "  <thead>\n",
       "    <tr style=\"text-align: right;\">\n",
       "      <th></th>\n",
       "      <th>shop_name</th>\n",
       "      <th>shop_id</th>\n",
       "    </tr>\n",
       "  </thead>\n",
       "  <tbody>\n",
       "    <tr>\n",
       "      <th>1</th>\n",
       "      <td>!Якутск ТЦ \"Центральный\" фран</td>\n",
       "      <td>1</td>\n",
       "    </tr>\n",
       "    <tr>\n",
       "      <th>58</th>\n",
       "      <td>Якутск ТЦ \"Центральный\"</td>\n",
       "      <td>58</td>\n",
       "    </tr>\n",
       "  </tbody>\n",
       "</table>\n",
       "</div>"
      ],
      "text/plain": [
       "                        shop_name  shop_id\n",
       "1   !Якутск ТЦ \"Центральный\" фран        1\n",
       "58        Якутск ТЦ \"Центральный\"       58"
      ]
     },
     "execution_count": 45,
     "metadata": {},
     "output_type": "execute_result"
    }
   ],
   "source": [
    "shops[(shops.shop_id == 1) | (shops.shop_id == 58)]"
   ]
  },
  {
   "cell_type": "code",
   "execution_count": 46,
   "metadata": {},
   "outputs": [],
   "source": [
    "shops.loc[(shops.shop_id ==1), 'shop_id'] = 58"
   ]
  },
  {
   "cell_type": "code",
   "execution_count": 47,
   "metadata": {},
   "outputs": [
    {
     "data": {
      "text/html": [
       "<div>\n",
       "<style scoped>\n",
       "    .dataframe tbody tr th:only-of-type {\n",
       "        vertical-align: middle;\n",
       "    }\n",
       "\n",
       "    .dataframe tbody tr th {\n",
       "        vertical-align: top;\n",
       "    }\n",
       "\n",
       "    .dataframe thead th {\n",
       "        text-align: right;\n",
       "    }\n",
       "</style>\n",
       "<table border=\"1\" class=\"dataframe\">\n",
       "  <thead>\n",
       "    <tr style=\"text-align: right;\">\n",
       "      <th></th>\n",
       "      <th>shop_name</th>\n",
       "      <th>shop_id</th>\n",
       "    </tr>\n",
       "  </thead>\n",
       "  <tbody>\n",
       "    <tr>\n",
       "      <th>10</th>\n",
       "      <td>Жуковский ул. Чкалова 39м?</td>\n",
       "      <td>10</td>\n",
       "    </tr>\n",
       "    <tr>\n",
       "      <th>11</th>\n",
       "      <td>Жуковский ул. Чкалова 39м²</td>\n",
       "      <td>11</td>\n",
       "    </tr>\n",
       "  </tbody>\n",
       "</table>\n",
       "</div>"
      ],
      "text/plain": [
       "                     shop_name  shop_id\n",
       "10  Жуковский ул. Чкалова 39м?       10\n",
       "11  Жуковский ул. Чкалова 39м²       11"
      ]
     },
     "execution_count": 47,
     "metadata": {},
     "output_type": "execute_result"
    }
   ],
   "source": [
    "shops[(shops.shop_id == 11) | (shops.shop_id == 10)]"
   ]
  },
  {
   "cell_type": "code",
   "execution_count": 48,
   "metadata": {},
   "outputs": [],
   "source": [
    "shops.loc[(shops.shop_id ==10), 'shop_id'] = 11"
   ]
  },
  {
   "cell_type": "code",
   "execution_count": 50,
   "metadata": {},
   "outputs": [],
   "source": [
    "### Make the city numeric\n",
    "shops['city'] = shops['shop_name'].apply(lambda x : x.split()[0])\n",
    "shops['city_id'] = LabelEncoder().fit_transform(shops['city'])"
   ]
  },
  {
   "cell_type": "code",
   "execution_count": 51,
   "metadata": {},
   "outputs": [
    {
     "data": {
      "text/plain": [
       "array([ 0,  1,  2,  3,  4,  5,  6,  7,  8,  9, 10, 11, 12, 13, 14, 15, 16,\n",
       "       17, 18, 19, 20, 21, 22, 23, 24, 25, 26, 27, 28, 29, 30, 31])"
      ]
     },
     "execution_count": 51,
     "metadata": {},
     "output_type": "execute_result"
    }
   ],
   "source": [
    "shops['city_id'].unique()"
   ]
  },
  {
   "cell_type": "code",
   "execution_count": 52,
   "metadata": {},
   "outputs": [],
   "source": [
    "SHOP_ID_TO_CITY_ID = dict(zip(shops.shop_id, shops.city_id))"
   ]
  },
  {
   "cell_type": "markdown",
   "metadata": {},
   "source": [
    "#### Meat of the exercise.\n",
    "\n",
    "Here comes the meat. Since the idea here is to increase more data, we do it in the following manner :\n",
    "\n",
    "For every month, get a cartesian product of all shop_id's and item_id's and populate a dataframe with all these entries(for all months from 0 to 34). Then , populate this dataframe with feature values, which can be used for prediction.\n",
    "\n",
    "On close observation, one can see that the test set is actually constructed in this way (you can verify that the total number of entries in the test set is the product of number of unique shop_id's and the number of unique item_id's)."
   ]
  },
  {
   "cell_type": "code",
   "execution_count": 13,
   "metadata": {},
   "outputs": [],
   "source": [
    "from itertools import product\n",
    "import time"
   ]
  },
  {
   "cell_type": "code",
   "execution_count": 14,
   "metadata": {},
   "outputs": [],
   "source": [
    "def get_master_data_shop_id_item_id_corr_month():\n",
    "    master_data = pd.DataFrame(columns=['date_block_num', 'shop_id', 'item_id'])\n",
    "    for i in range(sales_train.date_block_num.max()+1):\n",
    "        shop_id_item_ids = list(product(sales_train[sales_train.date_block_num==i].shop_id.unique(), \n",
    "                                        sales_train[sales_train.date_block_num==i].item_id.unique()))\n",
    "        \n",
    "        simple_df = pd.DataFrame(shop_id_item_ids, columns=['shop_id', 'item_id'])\n",
    "        simple_df['date_block_num'] = i\n",
    "        master_data = pd.concat([master_data, simple_df], sort=True)\n",
    "    return master_data    "
   ]
  },
  {
   "cell_type": "code",
   "execution_count": 15,
   "metadata": {},
   "outputs": [
    {
     "data": {
      "text/plain": [
       "29.69109606742859"
      ]
     },
     "execution_count": 15,
     "metadata": {},
     "output_type": "execute_result"
    }
   ],
   "source": [
    "ts = time.time()\n",
    "master_data = get_master_data_shop_id_item_id_corr_month()\n",
    "time.time() - ts"
   ]
  },
  {
   "cell_type": "markdown",
   "metadata": {},
   "source": [
    "#### Concatenating with a test set.\n",
    "\n",
    "Now, that we have a master dataframe( and have encapsulated the methods so that we can switch between them easily), let us concate nate them with the test set."
   ]
  },
  {
   "cell_type": "code",
   "execution_count": 16,
   "metadata": {},
   "outputs": [],
   "source": [
    "test_data['date_block_num'] = 34"
   ]
  },
  {
   "cell_type": "code",
   "execution_count": 17,
   "metadata": {},
   "outputs": [],
   "source": [
    "master_data_with_test = pd.concat([master_data, test_data[['date_block_num', 'shop_id', 'item_id']]], sort=True)"
   ]
  },
  {
   "cell_type": "markdown",
   "metadata": {},
   "source": [
    "#### Now , let us start filling the dataframe with relevant feature data."
   ]
  },
  {
   "cell_type": "code",
   "execution_count": 25,
   "metadata": {},
   "outputs": [],
   "source": [
    "master_data_with_test['item_category_id'] = master_data_with_test.item_id.apply(\n",
    "    lambda x : ITEM_ID_TO_ITEM_CATEGORY_ID.get(x, 0))"
   ]
  },
  {
   "cell_type": "markdown",
   "metadata": {},
   "source": [
    "#### Add item_cnt_month"
   ]
  },
  {
   "cell_type": "code",
   "execution_count": 28,
   "metadata": {},
   "outputs": [],
   "source": [
    "def get_monthly_data_from_daily(daily_data):\n",
    "    monthly_data = daily_data[['date_block_num', 'shop_id', 'item_id', 'item_cnt_day']].groupby(\n",
    "        ['date_block_num', 'shop_id', 'item_id']).sum()\n",
    "    monthly_data.rename(columns={'item_cnt_day':'item_cnt_month'}, inplace=True)\n",
    "    monthly_data.reset_index(inplace=True)\n",
    "    return monthly_data    "
   ]
  },
  {
   "cell_type": "code",
   "execution_count": 29,
   "metadata": {},
   "outputs": [],
   "source": [
    "monthly_data= get_monthly_data_from_daily(sales_train)\n",
    "monthly_data['present_in_orig_data'] = 1"
   ]
  },
  {
   "cell_type": "code",
   "execution_count": 30,
   "metadata": {},
   "outputs": [],
   "source": [
    "master_data_with_test = pd.merge(master_data_with_test, \n",
    "                                 monthly_data, \n",
    "                                 on=['date_block_num', 'shop_id', 'item_id'],\n",
    "                                 how='left')"
   ]
  },
  {
   "cell_type": "code",
   "execution_count": 31,
   "metadata": {},
   "outputs": [],
   "source": [
    "master_data_with_test.fillna(0, inplace=True)\n",
    "master_data_with_test['item_cnt_month'].clip(0, 20, inplace=True)"
   ]
  },
  {
   "cell_type": "markdown",
   "metadata": {},
   "source": [
    "#### Let us build a sample model and see how it looks on this new data set."
   ]
  },
  {
   "cell_type": "code",
   "execution_count": 34,
   "metadata": {},
   "outputs": [],
   "source": [
    "import xgboost as xgb\n",
    "from sklearn.metrics import mean_squared_error\n",
    "def build_xgboost_model(X, Y, new_X, new_Y, X_COLUMNS, verbose_eval=False):\n",
    "    xgb_train_data = xgb.DMatrix(X, Y, feature_names=X_COLUMNS)\n",
    "    xgb_validation_data = xgb.DMatrix(new_X, new_Y, feature_names=X_COLUMNS)\n",
    "    xgb_params = {'eta' : 0.1, 'eval_metric' : 'rmse'}\n",
    "    model_obj = xgb.train(params=xgb_params,\n",
    "                          dtrain=xgb_train_data,\n",
    "                          num_boost_round=4000,\n",
    "                          evals=[(xgb_validation_data, 'eval')],\n",
    "                          early_stopping_rounds=10,\n",
    "                          verbose_eval=verbose_eval)\n",
    "    validation_predictions = model_obj.predict(xgb_validation_data, ntree_limit=model_obj.best_ntree_limit)\n",
    "    prediction_score = np.sqrt(mean_squared_error(np.clip(validation_predictions, 0, 20), np.clip(new_Y, 0, 20)))\n",
    "    #print(np.sqrt(mean_squared_error(validation_predictions, new_Y)))\n",
    "    return (model_obj, prediction_score)"
   ]
  },
  {
   "cell_type": "markdown",
   "metadata": {},
   "source": [
    "#### Pitfalls !\n",
    "\n",
    "Remember that we have enlarged the data set by including entries for all shop_id's and item_id's for every month(and filling the missing values with zeros. While this is great for training, it is not great for validation as our validaiton score would be skewed by the presence of large number of zero entries. Hence we do the following :\n",
    "\n",
    "1. Make sure that the training values are truncated at 20.\n",
    "\n",
    "2. Make sure that the original validation data set is used as opposed to the inflated one (and make sure that the values are truncated at 20 as well)."
   ]
  },
  {
   "cell_type": "markdown",
   "metadata": {},
   "source": [
    "#### Add more features.\n",
    "\n",
    "Let us start with the item_cnt_month for the previous month."
   ]
  },
  {
   "cell_type": "code",
   "execution_count": 35,
   "metadata": {},
   "outputs": [],
   "source": [
    "def build_model_and_evaluate_validation_error(X_COLUMNS = ['date_block_num', 'shop_id', 'item_id', 'item_category_id'],\n",
    "                                              Y_COLUMN = ['item_cnt_month'],\n",
    "                                              master_data_with_test=master_data_with_test):\n",
    "    train_X = master_data_with_test[master_data_with_test.date_block_num < 33][X_COLUMNS]\n",
    "    train_Y = master_data_with_test[master_data_with_test.date_block_num < 33][Y_COLUMN]\n",
    "    validation_X = master_data_with_test[\n",
    "        (master_data_with_test.date_block_num == 33)][X_COLUMNS]\n",
    "    validation_Y = master_data_with_test[\n",
    "        (master_data_with_test.date_block_num == 33)][Y_COLUMN]\n",
    "    (model_obj, prediction_score) = build_xgboost_model(train_X, train_Y, validation_X, validation_Y, X_COLUMNS)\n",
    "    return (model_obj, prediction_score)"
   ]
  },
  {
   "cell_type": "markdown",
   "metadata": {},
   "source": [
    "#### Add sales for previous month"
   ]
  },
  {
   "cell_type": "code",
   "execution_count": 36,
   "metadata": {},
   "outputs": [],
   "source": [
    "# Ideal for creating features that correspond to that of previous month.\n",
    "def get_lagged_feature(df, lags, feature_name):\n",
    "    full_cols_list = ['date_block_num', 'shop_id', 'item_id'] + [feature_name]\n",
    "    tmp = df[full_cols_list]\n",
    "    for i in lags:\n",
    "        shifted_df = tmp.copy()\n",
    "        shifted_df['date_block_num'] += 1\n",
    "        feature_new_col_name = feature_name + '_lag_' + str(i)\n",
    "        shifted_df.rename(columns={feature_name:feature_new_col_name}, inplace=True)\n",
    "        df = pd.merge(df, \n",
    "                      shifted_df,\n",
    "                      on=['date_block_num', 'shop_id', 'item_id'],\n",
    "                      how='left')\n",
    "        df.fillna(0, inplace=True)\n",
    "    return df\n"
   ]
  },
  {
   "cell_type": "code",
   "execution_count": 37,
   "metadata": {},
   "outputs": [],
   "source": [
    "# Useful for creating features grouped by some columns followed by a time lag.\n",
    "def get_lagged_feature_after_grouping(df, lags, grouped_cols, feature_col, new_feature_col_name ):\n",
    "    all_cols = grouped_cols + [feature_col]\n",
    "    grouped_data = df[all_cols].groupby(\n",
    "        grouped_cols).mean()\n",
    "    grouped_data.rename(columns={feature_col : new_feature_col_name}, inplace=True)\n",
    "    grouped_data.reset_index(inplace=True)\n",
    "\n",
    "    df = pd.merge(df,\n",
    "                  grouped_data,\n",
    "                  on=grouped_cols,\n",
    "                  how='left')\n",
    "\n",
    "    df = get_lagged_feature(df, lags, new_feature_col_name)    \n",
    "    df.drop(columns=[new_feature_col_name], inplace=True)\n",
    "    return df"
   ]
  },
  {
   "cell_type": "markdown",
   "metadata": {},
   "source": [
    "#### Borrwing from https://www.kaggle.com/dlarionov/feature-engineering-xgboost, we code up relevant features.\n",
    "\n"
   ]
  },
  {
   "cell_type": "code",
   "execution_count": 53,
   "metadata": {},
   "outputs": [
    {
     "data": {
      "text/plain": [
       "0.5500102043151855"
      ]
     },
     "execution_count": 53,
     "metadata": {},
     "output_type": "execute_result"
    }
   ],
   "source": [
    "ts = time.time()\n",
    "master_data_with_test['month'] = master_data_with_test['date_block_num'] % 12\n",
    "time.time() - ts"
   ]
  },
  {
   "cell_type": "code",
   "execution_count": 54,
   "metadata": {},
   "outputs": [
    {
     "data": {
      "text/plain": [
       "84.34670114517212"
      ]
     },
     "execution_count": 54,
     "metadata": {},
     "output_type": "execute_result"
    }
   ],
   "source": [
    "ts = time.time()\n",
    "master_data_with_test = get_lagged_feature(master_data_with_test,\n",
    "                                           [1, 2, 3, 6, 12],\n",
    "                                           'item_cnt_month')\n",
    "time.time() - ts"
   ]
  },
  {
   "cell_type": "code",
   "execution_count": 55,
   "metadata": {},
   "outputs": [
    {
     "data": {
      "text/plain": [
       "87.53481793403625"
      ]
     },
     "execution_count": 55,
     "metadata": {},
     "output_type": "execute_result"
    }
   ],
   "source": [
    "ts = time.time()\n",
    "master_data_with_test = get_lagged_feature_after_grouping(master_data_with_test, \n",
    "                                                          [1, 2, 3, 6],\n",
    "                                                          ['date_block_num', 'item_id'],\n",
    "                                                          'item_cnt_month',\n",
    "                                                          'date_item_avg_item_cnt_month')\n",
    "time.time() - ts"
   ]
  },
  {
   "cell_type": "code",
   "execution_count": 72,
   "metadata": {},
   "outputs": [
    {
     "data": {
      "text/plain": [
       "35.49461793899536"
      ]
     },
     "execution_count": 72,
     "metadata": {},
     "output_type": "execute_result"
    }
   ],
   "source": [
    "ts = time.time()\n",
    "master_data_with_test = get_lagged_feature_after_grouping(master_data_with_test, \n",
    "                                                          [1],\n",
    "                                                          ['date_block_num', 'shop_id', 'item_category_id'],\n",
    "                                                          'item_cnt_month',\n",
    "                                                          'date_shop_cat_avg_item_cnt_month')\n",
    "time.time() - ts"
   ]
  },
  {
   "cell_type": "code",
   "execution_count": 58,
   "metadata": {},
   "outputs": [
    {
     "data": {
      "text/plain": [
       "38.51128816604614"
      ]
     },
     "execution_count": 58,
     "metadata": {},
     "output_type": "execute_result"
    }
   ],
   "source": [
    "ts = time.time()\n",
    "master_data_with_test = get_lagged_feature_after_grouping(master_data_with_test, \n",
    "                                                          [1],\n",
    "                                                          ['date_block_num', 'item_category_id'],\n",
    "                                                          'item_cnt_month',\n",
    "                                                          'date_cat_avg_item_cnt_month')\n",
    "time.time() - ts  "
   ]
  },
  {
   "cell_type": "code",
   "execution_count": 59,
   "metadata": {},
   "outputs": [
    {
     "data": {
      "text/plain": [
       "135.94659996032715"
      ]
     },
     "execution_count": 59,
     "metadata": {},
     "output_type": "execute_result"
    }
   ],
   "source": [
    "ts = time.time()\n",
    "master_data_with_test = get_lagged_feature_after_grouping(master_data_with_test, \n",
    "                                                          [1, 2, 3, 6, 12],\n",
    "                                                          ['date_block_num', 'shop_id'],\n",
    "                                                          'item_cnt_month',\n",
    "                                                          'date_shop_avg_item_cnt_month')\n",
    "time.time() - ts"
   ]
  },
  {
   "cell_type": "code",
   "execution_count": 60,
   "metadata": {},
   "outputs": [
    {
     "data": {
      "text/plain": [
       "31"
      ]
     },
     "execution_count": 60,
     "metadata": {},
     "output_type": "execute_result"
    }
   ],
   "source": [
    "from calendar import monthrange\n",
    "def get_number_of_days_in_a_month(month, year=2013):\n",
    "    return monthrange(year, month)[1]\n",
    "get_number_of_days_in_a_month(3)"
   ]
  },
  {
   "cell_type": "code",
   "execution_count": 61,
   "metadata": {},
   "outputs": [],
   "source": [
    "master_data_with_test['days'] = master_data_with_test.month.apply(lambda x : get_number_of_days_in_a_month(x+1))"
   ]
  },
  {
   "cell_type": "code",
   "execution_count": 62,
   "metadata": {},
   "outputs": [],
   "source": [
    "master_data_with_test['city_id'] = master_data_with_test['shop_id'].apply(\n",
    "     lambda x : SHOP_ID_TO_CITY_ID.get(x, -1))\n",
    "master_data_with_test['type_id'] = master_data_with_test['item_category_id'].apply(\n",
    "    lambda x : ITEM_CATEGORY_ID_TO_TYPE_ID.get(x, -1))\n",
    "master_data_with_test['sub_type_id'] = master_data_with_test['item_category_id'].apply(\n",
    "    lambda x : ITEM_CATEGORY_ID_TO_SUB_TYPE_ID.get(x, -1))"
   ]
  },
  {
   "cell_type": "markdown",
   "metadata": {},
   "source": [
    "#### Add features based on city id."
   ]
  },
  {
   "cell_type": "code",
   "execution_count": 63,
   "metadata": {},
   "outputs": [
    {
     "data": {
      "text/plain": [
       "65.62280774116516"
      ]
     },
     "execution_count": 63,
     "metadata": {},
     "output_type": "execute_result"
    }
   ],
   "source": [
    "ts = time.time()\n",
    "master_data_with_test = get_lagged_feature_after_grouping(master_data_with_test, \n",
    "                                                          [1],\n",
    "                                                          ['date_block_num', 'item_id', 'city_id'],\n",
    "                                                          'item_cnt_month',\n",
    "                                                          'date_item_city_avg_item_cnt_month')\n",
    "time.time() - ts"
   ]
  },
  {
   "cell_type": "code",
   "execution_count": 64,
   "metadata": {},
   "outputs": [
    {
     "data": {
      "text/plain": [
       "50.7128369808197"
      ]
     },
     "execution_count": 64,
     "metadata": {},
     "output_type": "execute_result"
    }
   ],
   "source": [
    "ts = time.time()\n",
    "master_data_with_test = get_lagged_feature_after_grouping(master_data_with_test, \n",
    "                                                          [1],\n",
    "                                                          ['date_block_num'],\n",
    "                                                          'item_cnt_month',\n",
    "                                                          'date_avg_item_cnt_month')\n",
    "time.time() - ts"
   ]
  },
  {
   "cell_type": "code",
   "execution_count": 73,
   "metadata": {},
   "outputs": [],
   "source": [
    "cur_x_cols = \\\n",
    "[x for x in list(master_data_with_test.columns) if x != 'item_cnt_month' and x != 'present_in_orig_data']\n"
   ]
  },
  {
   "cell_type": "code",
   "execution_count": 74,
   "metadata": {},
   "outputs": [
    {
     "data": {
      "text/plain": [
       "['date_block_num',\n",
       " 'item_id',\n",
       " 'shop_id',\n",
       " 'item_category_id',\n",
       " 'month',\n",
       " 'item_cnt_month_lag_1',\n",
       " 'item_cnt_month_lag_2',\n",
       " 'item_cnt_month_lag_3',\n",
       " 'item_cnt_month_lag_6',\n",
       " 'item_cnt_month_lag_12',\n",
       " 'date_item_avg_item_cnt_month_lag_1',\n",
       " 'date_item_avg_item_cnt_month_lag_2',\n",
       " 'date_item_avg_item_cnt_month_lag_3',\n",
       " 'date_item_avg_item_cnt_month_lag_6',\n",
       " 'date_cat_avg_item_cnt_month_lag_1',\n",
       " 'date_shop_avg_item_cnt_month_lag_1',\n",
       " 'date_shop_avg_item_cnt_month_lag_2',\n",
       " 'date_shop_avg_item_cnt_month_lag_3',\n",
       " 'date_shop_avg_item_cnt_month_lag_6',\n",
       " 'date_shop_avg_item_cnt_month_lag_12',\n",
       " 'days',\n",
       " 'city_id',\n",
       " 'type_id',\n",
       " 'sub_type_id',\n",
       " 'date_item_city_avg_item_cnt_month_lag_1',\n",
       " 'date_avg_item_cnt_month_lag_1',\n",
       " 'date_shop_cat_avg_item_cnt_month_lag_1']"
      ]
     },
     "execution_count": 74,
     "metadata": {},
     "output_type": "execute_result"
    }
   ],
   "source": [
    "cur_x_cols"
   ]
  },
  {
   "cell_type": "markdown",
   "metadata": {},
   "source": [
    "##### Now, since some of the columns involve looking back a period of 12 months, we delete the data for the first 11 months before building a model to avoid the presence of a large number of zeros (Otherwise columns 'item_cnt_month_lag_12' and 'date_shop_avg_item_cnt_month_lag_12' would be completely zeros for the first 11 months)."
   ]
  },
  {
   "cell_type": "code",
   "execution_count": 75,
   "metadata": {},
   "outputs": [],
   "source": [
    "master_data_with_test_new = master_data_with_test[master_data_with_test.date_block_num > 11]"
   ]
  },
  {
   "cell_type": "code",
   "execution_count": 76,
   "metadata": {},
   "outputs": [
    {
     "data": {
      "text/plain": [
       "238.12424659729004"
      ]
     },
     "execution_count": 76,
     "metadata": {},
     "output_type": "execute_result"
    }
   ],
   "source": [
    "ts = time.time()\n",
    "(model_obj, prediction_score) = build_model_and_evaluate_validation_error(X_COLUMNS = cur_x_cols,\n",
    "                                                                          Y_COLUMN = ['item_cnt_month'],\n",
    "                                                                          master_data_with_test=master_data_with_test_new)\n",
    "time.time() - ts"
   ]
  },
  {
   "cell_type": "code",
   "execution_count": 77,
   "metadata": {},
   "outputs": [
    {
     "data": {
      "text/plain": [
       "0.952011987935754"
      ]
     },
     "execution_count": 77,
     "metadata": {},
     "output_type": "execute_result"
    }
   ],
   "source": [
    "prediction_score"
   ]
  },
  {
   "cell_type": "code",
   "execution_count": 80,
   "metadata": {},
   "outputs": [
    {
     "data": {
      "text/plain": [
       "27"
      ]
     },
     "execution_count": 80,
     "metadata": {},
     "output_type": "execute_result"
    }
   ],
   "source": [
    "len(cur_x_cols)"
   ]
  },
  {
   "cell_type": "code",
   "execution_count": 78,
   "metadata": {},
   "outputs": [],
   "source": [
    "from xgboost import plot_importance\n",
    "def plot_feature_importances(model_obj):\n",
    "    fig, ax = plt.subplots(1, 1, figsize=(16, 9))\n",
    "    plot_importance(booster=model_obj, ax=ax)"
   ]
  },
  {
   "cell_type": "code",
   "execution_count": 79,
   "metadata": {},
   "outputs": [
    {
     "data": {
      "image/png": "[encoded data removed]",
      "text/plain": [
       "<Figure size 1152x648 with 1 Axes>"
      ]
     },
     "metadata": {},
     "output_type": "display_data"
    }
   ],
   "source": [
    "plot_feature_importances(model_obj)"
   ]
  },
  {
   "cell_type": "markdown",
   "metadata": {},
   "source": [
    "#### Key idea to simplify the model.\n",
    "\n",
    "We can do a trick here, that can help us in getting a good parsimonious model. First keep a superset of all predictors(they can be all significant ones according to the previous figure). Once we have that , we do the following :\n",
    "\n",
    "1. Start with an empty list of predictors say pred_list.\n",
    "2. Add a factor from the superset of predictors to pred_list and evaluate the validation error. Once we do this for all predictors in the superset, find which one has the lowest validation error and add the same to pred_list permanently.\n",
    "3. Repeat steps 1 and 2 (note that we do not set pred_list to empty everytime, but rather only at the very beginning. In subsequent iterations, we persist the value of pred_list , that was obtained in the end of the previous iteration), until we do not see a decrease in validation error.\n",
    "\n",
    "IMPORTANT NOTE : Since none of the features involve a big lookback window, we can safely train with the full data set and thus use a lot more data.\n",
    "\n"
   ]
  },
  {
   "cell_type": "code",
   "execution_count": 87,
   "metadata": {},
   "outputs": [
    {
     "data": {
      "text/plain": [
       "478.57609272003174"
      ]
     },
     "execution_count": 87,
     "metadata": {},
     "output_type": "execute_result"
    }
   ],
   "source": [
    "cur_x_cols = \\\n",
    "['item_category_id',\n",
    " 'date_item_avg_item_cnt_month_lag_1',\n",
    " 'item_id',\n",
    " 'shop_id',\n",
    " 'date_block_num',\n",
    " 'item_cnt_month_lag_1',\n",
    " 'date_shop_cat_avg_item_cnt_month_lag_1',\n",
    " 'date_shop_avg_item_cnt_month_lag_1',\n",
    " 'month', 'sub_type_id',\n",
    " 'date_cat_avg_item_cnt_month_lag_1',\n",
    " 'date_avg_item_cnt_month_lag_1',\n",
    " 'date_item_city_avg_item_cnt_month_lag_1']\n",
    "ts = time.time()\n",
    "(model_obj, prediction_score) = build_model_and_evaluate_validation_error(X_COLUMNS = cur_x_cols,\n",
    "                                                                          Y_COLUMN = ['item_cnt_month'],\n",
    "                                                                          master_data_with_test=master_data_with_test)\n",
    "time.time() - ts "
   ]
  },
  {
   "cell_type": "code",
   "execution_count": 88,
   "metadata": {},
   "outputs": [
    {
     "data": {
      "image/png": "[encoded data removed]",
      "text/plain": [
       "<Figure size 1152x648 with 1 Axes>"
      ]
     },
     "metadata": {},
     "output_type": "display_data"
    }
   ],
   "source": [
    "plot_feature_importances(model_obj)"
   ]
  },
  {
   "cell_type": "code",
   "execution_count": 89,
   "metadata": {},
   "outputs": [
    {
     "data": {
      "text/plain": [
       "0.9475363313452646"
      ]
     },
     "execution_count": 89,
     "metadata": {},
     "output_type": "execute_result"
    }
   ],
   "source": [
    "prediction_score"
   ]
  },
  {
   "cell_type": "markdown",
   "metadata": {},
   "source": [
    "###### Thus we find a better score, when we work with only the most important predictors. Hence we do the following :\n",
    "\n",
    "1. Drop the factor date_item_city_avg_item_cnt_month_lag_1 as it appears relatively insignificant and put the rest to a superset (having 12 predictors in total).\n",
    "2. Apply the greedy algorithm described earlier to find the set of predictors that minimizes validation error.\n",
    "\n"
   ]
  },
  {
   "cell_type": "code",
   "execution_count": null,
   "metadata": {},
   "outputs": [],
   "source": [
    "FULL_COLS_LIST = ['item_category_id',\n",
    " 'date_item_avg_item_cnt_month_lag_1',\n",
    " 'item_id',\n",
    " 'shop_id',\n",
    " 'date_block_num',\n",
    " 'item_cnt_month_lag_1',\n",
    " 'date_shop_cat_avg_item_cnt_month_lag_1',\n",
    " 'date_shop_avg_item_cnt_month_lag_1',\n",
    " 'month', 'sub_type_id',\n",
    " 'date_cat_avg_item_cnt_month_lag_1']"
   ]
  },
  {
   "cell_type": "code",
   "execution_count": null,
   "metadata": {},
   "outputs": [],
   "source": [
    "import operator\n",
    "def get_prediction_scores_given_predictors(given_list, master_data_with_test_new=master_data_with_test_new):\n",
    "    cols_list_to_score = {}\n",
    "    for col in FULL_COLS_LIST:\n",
    "        if col not in given_list:\n",
    "            cols_list = given_list + [col]\n",
    "            print(cols_list)\n",
    "            score = build_model_and_evaluate_validation_error2_and_return_score_only(\n",
    "                X_COLUMNS=cols_list,Y_COLUMN='item_cnt_month', master_data_with_test=master_data_with_test_new)\n",
    "            cols_list_to_score[str(cols_list)] = score        \n",
    "    \n",
    "    return sorted(cols_list_to_score.items(), key=operator.itemgetter(1))"
   ]
  },
  {
   "cell_type": "code",
   "execution_count": null,
   "metadata": {},
   "outputs": [],
   "source": [
    "ts = time.time()\n",
    "# Commented out since operation is computation intensive and hence takes up a significant amount of time to complete.\n",
    "#cols_list_to_score = get_prediction_scores_given_predictors([])\n",
    "time.time() - ts"
   ]
  },
  {
   "cell_type": "code",
   "execution_count": null,
   "metadata": {},
   "outputs": [],
   "source": [
    "cols_list_to_score"
   ]
  },
  {
   "cell_type": "code",
   "execution_count": null,
   "metadata": {},
   "outputs": [],
   "source": [
    "ts = time.time()\n",
    "# Commented out since operation is computation intensive and hence takes up a significant amount of time to complete.\n",
    "#cols_list_to_score = get_prediction_scores_given_predictors(['item_cnt_month_lag_1'])\n",
    "time.time() - ts"
   ]
  },
  {
   "cell_type": "code",
   "execution_count": null,
   "metadata": {},
   "outputs": [],
   "source": [
    "cols_list_to_score"
   ]
  },
  {
   "cell_type": "code",
   "execution_count": null,
   "metadata": {},
   "outputs": [],
   "source": [
    "ts = time.time()\n",
    "# Commented out since operation is computation intensive and hence takes up a significant amount of time to complete.\n",
    "#cols_list_to_score = get_prediction_scores_given_predictors(['item_cnt_month_lag_1', 'sub_type_id'])\n",
    "time.time() - ts"
   ]
  },
  {
   "cell_type": "code",
   "execution_count": null,
   "metadata": {},
   "outputs": [],
   "source": [
    "cols_list_to_score"
   ]
  },
  {
   "cell_type": "code",
   "execution_count": null,
   "metadata": {},
   "outputs": [],
   "source": [
    "ts = time.time()\n",
    "# Commented out since operation is computation intensive and hence takes up a significant amount of time to complete.\n",
    "#cols_list_to_score = get_prediction_scores_given_predictors(['item_cnt_month_lag_1', 'sub_type_id', 'shop_id'])\n",
    "time.time() - ts"
   ]
  },
  {
   "cell_type": "code",
   "execution_count": null,
   "metadata": {},
   "outputs": [],
   "source": [
    "cols_list_to_score"
   ]
  },
  {
   "cell_type": "code",
   "execution_count": null,
   "metadata": {},
   "outputs": [],
   "source": [
    "ts = time.time()\n",
    "# Commented out since operation is computation intensive and hence takes up a significant amount of time to complete.\n",
    "#cols_list_to_score = get_prediction_scores_given_predictors(['item_cnt_month_lag_1', 'sub_type_id', 'shop_id', 'date_item_avg_item_cnt_month_lag_1'])\n",
    "time.time() - ts"
   ]
  },
  {
   "cell_type": "code",
   "execution_count": null,
   "metadata": {},
   "outputs": [],
   "source": [
    "cols_list_to_score"
   ]
  },
  {
   "cell_type": "code",
   "execution_count": null,
   "metadata": {},
   "outputs": [],
   "source": [
    "ts = time.time()\n",
    "# Commented out since operation is computation intensive and hence takes up a significant amount of time to complete.\n",
    "#cols_list_to_score = get_prediction_scores_given_predictors(\n",
    "#    ['item_cnt_month_lag_1', 'sub_type_id', 'shop_id', 'date_item_avg_item_cnt_month_lag_1', 'item_category_id'])\n",
    "\n",
    "time.time() - ts"
   ]
  },
  {
   "cell_type": "code",
   "execution_count": null,
   "metadata": {},
   "outputs": [],
   "source": [
    "cols_list_to_score"
   ]
  },
  {
   "cell_type": "code",
   "execution_count": null,
   "metadata": {},
   "outputs": [],
   "source": [
    "ts = time.time()\n",
    "# Commented out since operation is computation intensive and hence takes up a significant amount of time to complete.\n",
    "# cols_list_to_score = get_prediction_scores_given_predictors(\n",
    "#     ['item_cnt_month_lag_1', \n",
    "#      'sub_type_id', \n",
    "#      'shop_id', \n",
    "#      'date_item_avg_item_cnt_month_lag_1', \n",
    "#      'item_category_id', \n",
    "#      'item_id'])\n",
    "\n",
    "time.time() - ts"
   ]
  },
  {
   "cell_type": "code",
   "execution_count": null,
   "metadata": {},
   "outputs": [],
   "source": [
    "cols_list_to_score"
   ]
  },
  {
   "cell_type": "code",
   "execution_count": 96,
   "metadata": {},
   "outputs": [
    {
     "name": "stdout",
     "output_type": "stream",
     "text": [
      "620.5042827129364\n",
      "0.9332173587251339\n"
     ]
    }
   ],
   "source": [
    "cur_x_cols = \\\n",
    "['item_cnt_month_lag_1', \n",
    " 'item_category_id', \n",
    " 'shop_id', \n",
    " 'date_item_avg_item_cnt_month_lag_1', \n",
    " 'sub_type_id']\n",
    "ts = time.time()\n",
    "(model_obj, prediction_score) = build_model_and_evaluate_validation_error(X_COLUMNS = cur_x_cols,\n",
    "                                                                          Y_COLUMN = ['item_cnt_month'],\n",
    "                                                                          master_data_with_test=master_data_with_test)\n",
    "print(time.time() - ts)\n",
    "print(prediction_score)\n"
   ]
  },
  {
   "cell_type": "markdown",
   "metadata": {},
   "source": [
    "##### When we test only with recent data (I have not pasted the full analysis here, but it is rather to this one, except that we used a smaller dataset containing only most recent data), we have the following result."
   ]
  },
  {
   "cell_type": "code",
   "execution_count": 93,
   "metadata": {},
   "outputs": [
    {
     "name": "stdout",
     "output_type": "stream",
     "text": [
      "450.1988821029663\n",
      "0.9154598617296164\n"
     ]
    }
   ],
   "source": [
    "cur_x_cols = ['item_cnt_month_lag_1', \n",
    "              'sub_type_id', \n",
    "              'shop_id', \n",
    "              'date_item_avg_item_cnt_month_lag_1', \n",
    "              'item_category_id', \n",
    "              'item_id',  \n",
    "              'date_shop_cat_avg_item_cnt_month_lag_1']\n",
    "ts = time.time()\n",
    "(model_obj, prediction_score) = build_model_and_evaluate_validation_error(X_COLUMNS = cur_x_cols,\n",
    "                                                                          Y_COLUMN = ['item_cnt_month'],\n",
    "                                                                          master_data_with_test=master_data_with_test_new)\n",
    "print(time.time() - ts)\n",
    "print(prediction_score)\n"
   ]
  },
  {
   "cell_type": "markdown",
   "metadata": {},
   "source": [
    "#### Generate predictions for test data"
   ]
  },
  {
   "cell_type": "code",
   "execution_count": 94,
   "metadata": {},
   "outputs": [],
   "source": [
    "def generate_test_data_predictions_and_write_to_file(filename='submission_xgboost_kaggle_notebook_replication.csv',\n",
    "                                                     model_obj=model_obj,\n",
    "                                                     master_data_with_test_new=master_data_with_test_new): \n",
    "    test_X = master_data_with_test_new[master_data_with_test_new.date_block_num == 34][cur_x_cols]\n",
    "    test_predictions = model_obj.predict(xgb.DMatrix(test_X, feature_names=cur_x_cols)).clip(0, 20)\n",
    "    test_data_with_predictions = test_data.copy()\n",
    "    test_data_with_predictions['item_cnt_month'] = test_predictions\n",
    "    test_data_with_predictions[['ID', 'item_cnt_month']].to_csv(filename, index=False)"
   ]
  },
  {
   "cell_type": "code",
   "execution_count": 101,
   "metadata": {},
   "outputs": [],
   "source": [
    "generate_test_data_predictions_and_write_to_file(filename='submission_xgboost_most_optimal_model.csv')"
   ]
  }
 ],
 "metadata": {
  "kernelspec": {
   "display_name": "Python 3",
   "language": "python",
   "name": "python3"
  },
  "language_info": {
   "codemirror_mode": {
    "name": "ipython",
    "version": 3
   },
   "file_extension": ".py",
   "mimetype": "text/x-python",
   "name": "python",
   "nbconvert_exporter": "python",
   "pygments_lexer": "ipython3",
   "version": "3.6.8"
  }
 },
 "nbformat": 4,
 "nbformat_minor": 2
}
